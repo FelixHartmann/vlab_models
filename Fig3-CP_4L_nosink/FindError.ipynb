{
 "metadata": {
  "name": "FindError"
 },
 "nbformat": 3,
 "nbformat_minor": 0,
 "worksheets": [
  {
   "cells": [
    {
     "cell_type": "code",
     "collapsed": false,
     "input": [
      "from IPython.display import display_html, HTML\n",
      "from IPython import parallel\n",
      "from IPython.core.formatters import HTMLFormatter\n",
      "html = HTMLFormatter()"
     ],
     "language": "python",
     "metadata": {},
     "outputs": [],
     "prompt_number": 1
    },
    {
     "cell_type": "code",
     "collapsed": false,
     "input": [
      "cs = parallel.Client(profile='pandas')\n",
      "view = cs[:]\n",
      "print(cs.ids)"
     ],
     "language": "python",
     "metadata": {},
     "outputs": [
      {
       "output_type": "stream",
       "stream": "stdout",
       "text": [
        "[0, 1, 2, 3, 4, 5, 6, 7, 8, 9]\n"
       ]
      }
     ],
     "prompt_number": 2
    },
    {
     "cell_type": "code",
     "collapsed": false,
     "input": [
      "import plyfile\n",
      "import cellflips\n",
      "import csv\n",
      "import operator\n",
      "from cellflips import Cell, CellFlip\n",
      "from future_builtins import zip\n",
      "import re"
     ],
     "language": "python",
     "metadata": {},
     "outputs": [],
     "prompt_number": 90
    },
    {
     "cell_type": "code",
     "collapsed": false,
     "input": [
      "%%px\n",
      "import plyfile\n",
      "import cellflips\n",
      "import csv\n",
      "import operator\n",
      "#reload(cellflips)\n",
      "from cellflips import Cell, CellFlip"
     ],
     "language": "python",
     "metadata": {},
     "outputs": [],
     "prompt_number": 4
    },
    {
     "cell_type": "code",
     "collapsed": false,
     "input": [
      "@view.parallel(block=True)\n",
      "def load_lines(fn):\n",
      "    cell_divided = None\n",
      "    with file(fn) as f:\n",
      "        reader = csv.reader(f)\n",
      "        reading = False\n",
      "        data = []\n",
      "        for l in reader:\n",
      "            if reading:\n",
      "                data.append(l[1:])\n",
      "            elif l:\n",
      "                if l[0] == 'on_vertex':\n",
      "                    reading = True\n",
      "                elif l[0] == 'Cell divided':\n",
      "                    cell_divided = Cell(3,int(l[1]))\n",
      "        df = DataFrame(data, columns=['to_divide', 'x', 'y', 'z']).convert_objects(convert_numeric=True)\n",
      "        return cell_divided, df"
     ],
     "language": "python",
     "metadata": {},
     "outputs": [],
     "prompt_number": 18
    },
    {
     "cell_type": "markdown",
     "metadata": {},
     "source": [
      "<h1> Listing errors </h1>"
     ]
    },
    {
     "cell_type": "code",
     "collapsed": false,
     "input": [
      "errors = sorted([int(p.basename()[3:]) for p in path('.').dirs('err?*')])\n",
      "display(errors)"
     ],
     "language": "python",
     "metadata": {},
     "outputs": [
      {
       "output_type": "display_data",
       "text": [
        "[1]"
       ]
      }
     ],
     "prompt_number": 127
    },
    {
     "cell_type": "markdown",
     "metadata": {},
     "source": [
      "<h1> 1. Load the cell complex </h1>\n",
      "\n"
     ]
    },
    {
     "cell_type": "code",
     "collapsed": false,
     "input": [
      "pid = 1\n",
      "pth = path('err{}'.format(pid))\n",
      "ply, cplx = cellflips.loadFlip(pth/'error_cells.flip')\n",
      "view['ply'] = ply\n",
      "view['cplx'] = cplx"
     ],
     "language": "python",
     "metadata": {},
     "outputs": [],
     "prompt_number": 137
    },
    {
     "cell_type": "markdown",
     "metadata": {},
     "source": [
      "<h1> 2. If any, load the division lines </h1>"
     ]
    },
    {
     "cell_type": "code",
     "collapsed": false,
     "input": [
      "files = pth.files(\"*.csv\")\n",
      "print(len(files))\n",
      "files[:10]"
     ],
     "language": "python",
     "metadata": {},
     "outputs": [
      {
       "output_type": "stream",
       "stream": "stdout",
       "text": [
        "0\n"
       ]
      },
      {
       "output_type": "pyout",
       "prompt_number": 106,
       "text": [
        "[]"
       ]
      }
     ],
     "prompt_number": 106
    },
    {
     "cell_type": "code",
     "collapsed": false,
     "input": [
      "div_lines = load_lines.map(files)\n",
      "len(div_lines)"
     ],
     "language": "python",
     "metadata": {},
     "outputs": [
      {
       "output_type": "pyout",
       "prompt_number": 33,
       "text": [
        "8068"
       ]
      }
     ],
     "prompt_number": 33
    },
    {
     "cell_type": "code",
     "collapsed": false,
     "input": [
      "@view.parallel(block=True)\n",
      "def find_cells(line):\n",
      "    cs = [cplx.cobounds(Cell(1,e), n=3) for e in line[1].to_divide]\n",
      "    return list(reduce(operator.iand, cs))\n",
      "    "
     ],
     "language": "python",
     "metadata": {},
     "outputs": [],
     "prompt_number": 34
    },
    {
     "cell_type": "code",
     "collapsed": false,
     "input": [
      "div_cells = find_cells.map(div_lines)\n",
      "len(div_cells)\n"
     ],
     "language": "python",
     "metadata": {},
     "outputs": [
      {
       "output_type": "pyout",
       "prompt_number": 35,
       "text": [
        "8068"
       ]
      }
     ],
     "prompt_number": 35
    },
    {
     "cell_type": "code",
     "collapsed": false,
     "input": [
      "len([(i,f) for i,(f,l) in enumerate(zip(files,div_cells)) if len(l) > 1])"
     ],
     "language": "python",
     "metadata": {},
     "outputs": [
      {
       "output_type": "pyout",
       "prompt_number": 36,
       "text": [
        "0"
       ]
      }
     ],
     "prompt_number": 36
    },
    {
     "cell_type": "code",
     "collapsed": false,
     "input": [
      "empties = [(i,f) for i,(f,l) in enumerate(zip(files,div_cells)) if not l]\n",
      "len(empties)"
     ],
     "language": "python",
     "metadata": {},
     "outputs": [
      {
       "output_type": "pyout",
       "prompt_number": 37,
       "text": [
        "175"
       ]
      }
     ],
     "prompt_number": 37
    },
    {
     "cell_type": "code",
     "collapsed": false,
     "input": [
      "se = empties[0][0]\n",
      "empties[:10]"
     ],
     "language": "python",
     "metadata": {},
     "outputs": [
      {
       "output_type": "pyout",
       "prompt_number": 44,
       "text": [
        "[(153, 'err8/division_lines_1157.csv'),\n",
        " (350, 'err8/division_lines_1358.csv'),\n",
        " (351, 'err8/division_lines_1359.csv'),\n",
        " (352, 'err8/division_lines_135.csv'),\n",
        " (353, 'err8/division_lines_1361.csv'),\n",
        " (355, 'err8/division_lines_1365.csv'),\n",
        " (356, 'err8/division_lines_1366.csv'),\n",
        " (443, 'err8/division_lines_1467.csv'),\n",
        " (444, 'err8/division_lines_1468.csv'),\n",
        " (447, 'err8/division_lines_1470.csv')]"
       ]
      }
     ],
     "prompt_number": 44
    },
    {
     "cell_type": "code",
     "collapsed": false,
     "input": [
      "lines = []\n",
      "for e in div_lines[se][1].to_divide:\n",
      "    ce = Cell(1,e)\n",
      "    res = \", \".join(html(c) for c in cplx.cobounds(ce, 3))\n",
      "    lines.append([html(ce), res])\n",
      "display(div_lines[se][0])\n",
      "display(HTML('<table border=\"1\"> <tr> <th> Edge </th> <th> Cells </th> </tr>\\n' +\n",
      "             \"\\n\".join(\"<tr><td>{0}</td><td>{1}</td></tr>\".format(*l) for l in lines) +\n",
      "             '</table>'))"
     ],
     "language": "python",
     "metadata": {},
     "outputs": [
      {
       "html": [
        "<it>31645</it><sub>3</sub>"
       ],
       "output_type": "display_data",
       "text": [
        "Cell(3,31645)"
       ]
      },
      {
       "html": [
        "<table border=\"1\"> <tr> <th> Edge </th> <th> Cells </th> </tr>\n",
        "<tr><td><it>31367</it><sub>1</sub></td><td><it>15170</it><sub>3</sub>, <it>31644</it><sub>3</sub>, <it>31645</it><sub>3</sub></td></tr>\n",
        "<tr><td><it>31224</it><sub>1</sub></td><td><it>15170</it><sub>3</sub>, <it>31645</it><sub>3</sub></td></tr>\n",
        "<tr><td><it>31227</it><sub>1</sub></td><td><it>15170</it><sub>3</sub>, <it>31645</it><sub>3</sub></td></tr>\n",
        "<tr><td><it>8651</it><sub>1</sub></td><td><it>15170</it><sub>3</sub>, <it>31645</it><sub>3</sub></td></tr>\n",
        "<tr><td><it>9043</it><sub>1</sub></td><td><it>15170</it><sub>3</sub>, <it>31645</it><sub>3</sub></td></tr>\n",
        "<tr><td><it>8833</it><sub>1</sub></td><td><it>15170</it><sub>3</sub>, <it>31645</it><sub>3</sub></td></tr>\n",
        "<tr><td><it>8831</it><sub>1</sub></td><td><it>15170</it><sub>3</sub>, <it>31645</it><sub>3</sub></td></tr>\n",
        "<tr><td><it>8842</it><sub>1</sub></td><td><it>15170</it><sub>3</sub>, <it>31645</it><sub>3</sub></td></tr>\n",
        "<tr><td><it>8807</it><sub>1</sub></td><td><it>15170</it><sub>3</sub>, <it>31645</it><sub>3</sub></td></tr>\n",
        "<tr><td><it>8639</it><sub>1</sub></td><td><it>15170</it><sub>3</sub>, <it>31645</it><sub>3</sub></td></tr>\n",
        "<tr><td><it>8636</it><sub>1</sub></td><td><it>15170</it><sub>3</sub>, <it>31645</it><sub>3</sub></td></tr>\n",
        "<tr><td><it>8183</it><sub>1</sub></td><td><it>15170</it><sub>3</sub>, <it>31645</it><sub>3</sub></td></tr>\n",
        "<tr><td><it>8204</it><sub>1</sub></td><td><it>31645</it><sub>3</sub></td></tr>\n",
        "<tr><td><it>8091</it><sub>1</sub></td><td><it>31645</it><sub>3</sub></td></tr>\n",
        "<tr><td><it>8088</it><sub>1</sub></td><td><it>31645</it><sub>3</sub></td></tr>\n",
        "<tr><td><it>8222</it><sub>1</sub></td><td><it>31645</it><sub>3</sub></td></tr>\n",
        "<tr><td><it>1348</it><sub>1</sub></td><td><it>31645</it><sub>3</sub></td></tr>\n",
        "<tr><td><it>1349</it><sub>1</sub></td><td><it>31645</it><sub>3</sub></td></tr>\n",
        "<tr><td><it>2109</it><sub>1</sub></td><td><it>31645</it><sub>3</sub></td></tr>\n",
        "<tr><td><it>945</it><sub>1</sub></td><td><it>31645</it><sub>3</sub></td></tr>\n",
        "<tr><td><it>946</it><sub>1</sub></td><td><it>31645</it><sub>3</sub></td></tr>\n",
        "<tr><td><it>2337</it><sub>1</sub></td><td><it>31645</it><sub>3</sub></td></tr>\n",
        "<tr><td><it>2336</it><sub>1</sub></td><td><it>31645</it><sub>3</sub></td></tr>\n",
        "<tr><td><it>2949</it><sub>1</sub></td><td><it>31645</it><sub>3</sub></td></tr>\n",
        "<tr><td><it>1947</it><sub>1</sub></td><td><it>31645</it><sub>3</sub></td></tr>\n",
        "<tr><td><it>1946</it><sub>1</sub></td><td><it>31645</it><sub>3</sub></td></tr>\n",
        "<tr><td><it>1129</it><sub>1</sub></td><td><it>31645</it><sub>3</sub></td></tr>\n",
        "<tr><td><it>1131</it><sub>1</sub></td><td><it>31645</it><sub>3</sub></td></tr>\n",
        "<tr><td><it>1313</it><sub>1</sub></td><td><it>31645</it><sub>3</sub></td></tr>\n",
        "<tr><td><it>1311</it><sub>1</sub></td><td><it>31645</it><sub>3</sub></td></tr>\n",
        "<tr><td><it>2408</it><sub>1</sub></td><td><it>31645</it><sub>3</sub></td></tr>\n",
        "<tr><td><it>2406</it><sub>1</sub></td><td><it>31645</it><sub>3</sub></td></tr>\n",
        "<tr><td><it>11817</it><sub>1</sub></td><td><it>17213</it><sub>3</sub>, <it>31645</it><sub>3</sub></td></tr>\n",
        "<tr><td><it>12489</it><sub>1</sub></td><td><it>31645</it><sub>3</sub>, <it>17213</it><sub>3</sub></td></tr>\n",
        "<tr><td><it>12490</it><sub>1</sub></td><td><it>31645</it><sub>3</sub>, <it>17213</it><sub>3</sub></td></tr>\n",
        "<tr><td><it>12336</it><sub>1</sub></td><td><it>31645</it><sub>3</sub>, <it>17213</it><sub>3</sub></td></tr>\n",
        "<tr><td><it>12335</it><sub>1</sub></td><td><it>17213</it><sub>3</sub>, <it>31645</it><sub>3</sub></td></tr>\n",
        "<tr><td><it>12630</it><sub>1</sub></td><td><it>17213</it><sub>3</sub>, <it>31645</it><sub>3</sub></td></tr>\n",
        "<tr><td><it>12632</it><sub>1</sub></td><td><it>31645</it><sub>3</sub>, <it>17213</it><sub>3</sub></td></tr>\n",
        "<tr><td><it>12243</it><sub>1</sub></td><td><it>31645</it><sub>3</sub>, <it>17213</it><sub>3</sub></td></tr>\n",
        "<tr><td><it>12242</it><sub>1</sub></td><td><it>17213</it><sub>3</sub>, <it>31645</it><sub>3</sub></td></tr>\n",
        "<tr><td><it>12246</it><sub>1</sub></td><td><it>17213</it><sub>3</sub>, <it>31645</it><sub>3</sub></td></tr>\n",
        "<tr><td><it>12245</it><sub>1</sub></td><td><it>17213</it><sub>3</sub>, <it>31645</it><sub>3</sub></td></tr>\n",
        "<tr><td><it>28409</it><sub>1</sub></td><td><it>19840</it><sub>3</sub>, <it>28965</it><sub>3</sub>, <it>31645</it><sub>3</sub>, <it>17213</it><sub>3</sub></td></tr>\n",
        "<tr><td><it>28843</it><sub>1</sub></td><td><it>31645</it><sub>3</sub>, <it>28965</it><sub>3</sub></td></tr>\n",
        "<tr><td><it>28406</it><sub>1</sub></td><td><it>31645</it><sub>3</sub>, <it>28965</it><sub>3</sub></td></tr>\n",
        "<tr><td><it>28404</it><sub>1</sub></td><td><it>31645</it><sub>3</sub>, <it>28965</it><sub>3</sub></td></tr>\n",
        "<tr><td><it>28831</it><sub>1</sub></td><td><it>31645</it><sub>3</sub>, <it>28965</it><sub>3</sub></td></tr>\n",
        "<tr><td><it>28400</it><sub>1</sub></td><td><it>28965</it><sub>3</sub>, <it>31645</it><sub>3</sub></td></tr>\n",
        "<tr><td><it>28398</it><sub>1</sub></td><td><it>31645</it><sub>3</sub>, <it>28965</it><sub>3</sub></td></tr>\n",
        "<tr><td><it>28840</it><sub>1</sub></td><td><it>28965</it><sub>3</sub>, <it>31645</it><sub>3</sub></td></tr>\n",
        "<tr><td><it>28394</it><sub>1</sub></td><td><it>28965</it><sub>3</sub>, <it>31645</it><sub>3</sub></td></tr>\n",
        "<tr><td><it>28392</it><sub>1</sub></td><td><it>31645</it><sub>3</sub>, <it>28965</it><sub>3</sub></td></tr>\n",
        "<tr><td><it>28849</it><sub>1</sub></td><td><it>28965</it><sub>3</sub>, <it>31645</it><sub>3</sub></td></tr>\n",
        "<tr><td><it>28389</it><sub>1</sub></td><td><it>31645</it><sub>3</sub>, <it>28965</it><sub>3</sub></td></tr>\n",
        "<tr><td><it>28852</it><sub>1</sub></td><td><it>28965</it><sub>3</sub>, <it>31645</it><sub>3</sub></td></tr>\n",
        "<tr><td><it>28600</it><sub>1</sub></td><td><it>31644</it><sub>3</sub>, <it>31645</it><sub>3</sub>, <it>28964</it><sub>3</sub>, <it>28965</it><sub>3</sub></td></tr>\n",
        "<tr><td><it>0</it><sub>1</sub></td><td></td></tr></table>"
       ],
       "output_type": "display_data",
       "text": [
        "<IPython.core.display.HTML at 0x47e5690>"
       ]
      }
     ],
     "prompt_number": 45
    },
    {
     "cell_type": "code",
     "collapsed": false,
     "input": [
      "unique_cells = tuple(set(reduce(operator.add, div_cells)))\n",
      "unique_cells"
     ],
     "language": "python",
     "metadata": {},
     "outputs": [
      {
       "output_type": "pyout",
       "prompt_number": 40,
       "text": [
        "(Cell(3,31645),)"
       ]
      }
     ],
     "prompt_number": 40
    },
    {
     "cell_type": "markdown",
     "metadata": {},
     "source": [
      "<h1> 3. Check errors in the output file </h1>"
     ]
    },
    {
     "cell_type": "code",
     "collapsed": false,
     "input": [
      "output = path(\"output{}.txt\".format(pid))\n",
      "lines = []\n",
      "file_errors = []\n",
      "with file(output) as f:\n",
      "    lines = list(f)\n",
      "    for i,l in enumerate(lines):\n",
      "        if 'Error' in l:\n",
      "            file_errors.append(i)\n",
      "            print(\"Line {0}: {1}\".format(i,l.strip()))"
     ],
     "language": "python",
     "metadata": {},
     "outputs": [
      {
       "output_type": "stream",
       "stream": "stdout",
       "text": [
        "Line 1366: Error adding cell {0|-12813 +13391} when subdividing [2|13080]\n"
       ]
      }
     ],
     "prompt_number": 128
    },
    {
     "cell_type": "code",
     "collapsed": false,
     "input": [
      "for i in file_errors:\n",
      "    print(\"\\nError line {}:\\n\".format(i))\n",
      "    print(\"\".join(lines[i-5:i+5]))"
     ],
     "language": "python",
     "metadata": {},
     "outputs": [
      {
       "output_type": "stream",
       "stream": "stdout",
       "text": [
        "\n",
        "Error line 1366:\n",
        "\n",
        "Check boundaries\n",
        "Need to divide cell [3|6520] of volume 2.7019\n",
        "Min point distance: 0.0969457\n",
        "Trying to place 242 points for a polygon of 51 points\n",
        "Placed 142 points\n",
        "Error adding cell {0|-12813 +13391} when subdividing [2|13080]\n",
        "Stopping animation\n",
        "Finding faces\n",
        "Finding cells\n",
        "\n",
        "\n"
       ]
      }
     ],
     "prompt_number": 129
    },
    {
     "cell_type": "code",
     "collapsed": false,
     "input": [
      "def extractMembraneEdgeError(ln):\n",
      "    edge = re.compile(r'.*(\\{.*\\}).*(\\[.*\\])')\n",
      "    m = edge.match(lines[ln])\n",
      "    return cellflips.fromStr(m.group(1)), cellflips.fromStr(m.group(2))"
     ],
     "language": "python",
     "metadata": {},
     "outputs": [],
     "prompt_number": 132
    },
    {
     "cell_type": "code",
     "collapsed": false,
     "input": [
      "(v0, v1), m = extractMembraneEdgeError(file_errors[0])\n",
      "display(v0, v1, m)"
     ],
     "language": "python",
     "metadata": {},
     "outputs": [
      {
       "html": [
        "<b>-</b><it>12813</it><sub>0</sub>"
       ],
       "output_type": "display_data",
       "text": [
        "Oriented(-1,Cell(0,12813))"
       ]
      },
      {
       "html": [
        "<b>+</b><it>13391</it><sub>0</sub>"
       ],
       "output_type": "display_data",
       "text": [
        "Oriented(1,Cell(0,13391))"
       ]
      },
      {
       "html": [
        "<it>13080</it><sub>2</sub>"
       ],
       "output_type": "display_data",
       "text": [
        "Cell(2,13080)"
       ]
      }
     ],
     "prompt_number": 134
    },
    {
     "cell_type": "code",
     "collapsed": false,
     "input": [
      "print(\"{} in cplx = {}\".format(~v0, ~v0 in cplx))\n",
      "print(\"{} in cplx = {}\".format(~v1, ~v1 in cplx))\n",
      "print(\"{} in cplx = {}\".format(m, m in cplx))"
     ],
     "language": "python",
     "metadata": {},
     "outputs": [
      {
       "output_type": "stream",
       "stream": "stdout",
       "text": [
        "[0|12813] in cplx = True\n",
        "[0|13391] in cplx = False\n",
        "[2|13080] in cplx = True\n"
       ]
      }
     ],
     "prompt_number": 138
    },
    {
     "cell_type": "code",
     "collapsed": false,
     "input": [
      "ply[~v0]\n"
     ],
     "language": "python",
     "metadata": {},
     "outputs": [
      {
       "output_type": "pyout",
       "prompt_number": 111,
       "text": [
        "{u'Bottom': 0,\n",
        " u'NX': 0.0,\n",
        " u'NY': 0.0,\n",
        " u'NZ': 0.0,\n",
        " u'Num': 14048,\n",
        " u'Selected': 0,\n",
        " u'X': -0.066275289825303119,\n",
        " u'Y': 0.0011539133427715988,\n",
        " u'Z': 0.03302989147611169}"
       ]
      }
     ],
     "prompt_number": 111
    },
    {
     "cell_type": "code",
     "collapsed": false,
     "input": [
      "cplx.isBound(m,~v0)"
     ],
     "language": "python",
     "metadata": {},
     "outputs": [
      {
       "output_type": "pyout",
       "prompt_number": 113,
       "text": [
        "True"
       ]
      }
     ],
     "prompt_number": 113
    },
    {
     "cell_type": "code",
     "collapsed": false,
     "input": [
      "Cell(3, 6520) in cplx"
     ],
     "language": "python",
     "metadata": {},
     "outputs": [
      {
       "output_type": "pyout",
       "prompt_number": 89,
       "text": [
        "False"
       ]
      }
     ],
     "prompt_number": 89
    },
    {
     "cell_type": "code",
     "collapsed": false,
     "input": [
      "len(cplx.cells())"
     ],
     "language": "python",
     "metadata": {},
     "outputs": [
      {
       "output_type": "pyout",
       "prompt_number": 114,
       "text": [
        "8"
       ]
      }
     ],
     "prompt_number": 114
    },
    {
     "cell_type": "markdown",
     "metadata": {},
     "source": [
      "<h1> 4. Random actions </h1>"
     ]
    },
    {
     "cell_type": "code",
     "collapsed": false,
     "input": [
      "v = Cell(0,12771)"
     ],
     "language": "python",
     "metadata": {},
     "outputs": [],
     "prompt_number": 125
    },
    {
     "cell_type": "code",
     "collapsed": false,
     "input": [
      "cplx.cobounds(v)"
     ],
     "language": "python",
     "metadata": {},
     "outputs": [
      {
       "output_type": "pyout",
       "prompt_number": 126,
       "text": [
        "set([Cell(1,12770),\n",
        "     Cell(1,13313),\n",
        "     Cell(1,12870),\n",
        "     Cell(1,12873),\n",
        "     Cell(1,13312),\n",
        "     Cell(1,12769)])"
       ]
      }
     ],
     "prompt_number": 126
    },
    {
     "cell_type": "code",
     "collapsed": false,
     "input": [
      "Cell(1,13383) in cplx"
     ],
     "language": "python",
     "metadata": {},
     "outputs": [
      {
       "output_type": "pyout",
       "prompt_number": 139,
       "text": [
        "True"
       ]
      }
     ],
     "prompt_number": 139
    },
    {
     "cell_type": "code",
     "collapsed": false,
     "input": [
      "cplx.bounds(Cell(1,13383))"
     ],
     "language": "python",
     "metadata": {},
     "outputs": [
      {
       "output_type": "pyout",
       "prompt_number": 141,
       "text": [
        "set([Cell(0,13312), Cell(0,12813)])"
       ]
      }
     ],
     "prompt_number": 141
    },
    {
     "cell_type": "code",
     "collapsed": false,
     "input": [
      "~v0"
     ],
     "language": "python",
     "metadata": {},
     "outputs": [
      {
       "html": [
        "<it>12813</it><sub>0</sub>"
       ],
       "output_type": "pyout",
       "prompt_number": 143,
       "text": [
        "Cell(0,12813)"
       ]
      }
     ],
     "prompt_number": 143
    },
    {
     "cell_type": "code",
     "collapsed": false,
     "input": [
      "Cell(1,13383) in cplx.cobounds(~v0)"
     ],
     "language": "python",
     "metadata": {},
     "outputs": [
      {
       "output_type": "pyout",
       "prompt_number": 146,
       "text": [
        "True"
       ]
      }
     ],
     "prompt_number": 146
    },
    {
     "cell_type": "code",
     "collapsed": false,
     "input": [
      "v1"
     ],
     "language": "python",
     "metadata": {},
     "outputs": [
      {
       "html": [
        "<b>+</b><it>13391</it><sub>0</sub>"
       ],
       "output_type": "pyout",
       "prompt_number": 147,
       "text": [
        "Oriented(1,Cell(0,13391))"
       ]
      }
     ],
     "prompt_number": 147
    },
    {
     "cell_type": "code",
     "collapsed": false,
     "input": [],
     "language": "python",
     "metadata": {},
     "outputs": []
    }
   ],
   "metadata": {}
  }
 ]
}